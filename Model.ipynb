{
  "nbformat": 4,
  "nbformat_minor": 0,
  "metadata": {
    "colab": {
      "provenance": [],
      "gpuType": "T4",
      "include_colab_link": true
    },
    "kernelspec": {
      "name": "python3",
      "display_name": "Python 3"
    },
    "language_info": {
      "name": "python"
    }
  },
  "cells": [
    {
      "cell_type": "markdown",
      "metadata": {
        "id": "view-in-github",
        "colab_type": "text"
      },
      "source": [
        "<a href=\"https://colab.research.google.com/github/ObaiMohammad/CV/blob/main/Model.ipynb\" target=\"_parent\"><img src=\"https://colab.research.google.com/assets/colab-badge.svg\" alt=\"Open In Colab\"/></a>"
      ]
    },
    {
      "cell_type": "code",
      "source": [
        "from google.colab import drive\n",
        "drive.mount('/content/drive')\n"
      ],
      "metadata": {
        "colab": {
          "base_uri": "https://localhost:8080/"
        },
        "id": "eS4l92xUb0th",
        "outputId": "1c65a97c-d4e0-4806-f305-391ba5d1a799"
      },
      "execution_count": 1,
      "outputs": [
        {
          "output_type": "stream",
          "name": "stdout",
          "text": [
            "Drive already mounted at /content/drive; to attempt to forcibly remount, call drive.mount(\"/content/drive\", force_remount=True).\n"
          ]
        }
      ]
    },
    {
      "cell_type": "code",
      "source": [
        "import numpy as np\n",
        "import pandas as pd\n",
        "\n",
        "import scipy.io\n",
        "from sklearn.preprocessing import MinMaxScaler\n",
        "\n",
        "from sklearn.model_selection import KFold\n",
        "from sklearn.metrics import mean_squared_error"
      ],
      "metadata": {
        "id": "ZZdOjxlsQhoP"
      },
      "execution_count": 2,
      "outputs": []
    },
    {
      "cell_type": "code",
      "source": [
        "def prepare_eis_data(Zmatrix, soc_values, temperature_values,scale_real,scale_img):\n",
        "    data_list_in = []\n",
        "    data_list_out = []\n",
        "\n",
        "    for i, soc in enumerate(soc_values):\n",
        "        real_part = np.real(Zmatrix[:, :, i]) /scale_real\n",
        "        imag_part = np.imag(Zmatrix[:, :, i]) /scale_img\n",
        "\n",
        "        for col_idx, temp in enumerate(temperature_values):\n",
        "            real_values = real_part[:, col_idx]\n",
        "            imag_values = imag_part[:, col_idx]\n",
        "\n",
        "            combined_features = list(real_values) + list(imag_values)\n",
        "            combined_features.append(soc)\n",
        "\n",
        "            data_list_in.append(combined_features)\n",
        "            data_list_out.append([temp])\n",
        "\n",
        "    df_in = pd.DataFrame(data_list_in)\n",
        "    df_out = pd.DataFrame(data_list_out, columns=['Temperature'])\n",
        "\n",
        "    return df_in, df_out"
      ],
      "metadata": {
        "id": "i7Hr0DcpMKfS"
      },
      "execution_count": 12,
      "outputs": []
    },
    {
      "cell_type": "code",
      "source": [
        "mat_data = scipy.io.loadmat('/content/drive/MyDrive/Data/EISresults.mat')\n",
        "Zmatrix = mat_data['Zmatrix']\n",
        "\n",
        "soc_values = [35, 55, 80]\n",
        "temperature_values = [17, 28.1, 32.2, 48.1, 58]\n",
        "\n",
        "df_in, df_out = prepare_eis_data(Zmatrix, soc_values, temperature_values,1000, -1000)"
      ],
      "metadata": {
        "id": "5MJfBaaMMRok"
      },
      "execution_count": 19,
      "outputs": []
    },
    {
      "cell_type": "code",
      "source": [
        "input = df_in\n",
        "output = df_out\n",
        "\n",
        "print(\"input.shape \",input.shape)\n",
        "print(\"output.shape \",output.shape)\n",
        "\n",
        "scaler_input = MinMaxScaler()\n",
        "scaler_output = MinMaxScaler()\n",
        "\n",
        "normalized_input  = pd.DataFrame(scaler_input.fit_transform(input))\n",
        "normalized_out = pd.DataFrame(scaler_output.fit_transform(output),columns=['Temperature'])"
      ],
      "metadata": {
        "colab": {
          "base_uri": "https://localhost:8080/"
        },
        "id": "OtBEbykPU4bU",
        "outputId": "1ea7730d-1996-4d67-ea50-3ba6828fc49f"
      },
      "execution_count": 21,
      "outputs": [
        {
          "output_type": "stream",
          "name": "stdout",
          "text": [
            "input.shape  (15, 201)\n",
            "output.shape  (15, 1)\n"
          ]
        }
      ]
    },
    {
      "cell_type": "code",
      "source": [
        "from sklearn.neural_network import MLPRegressor\n",
        "from sklearn.datasets import make_regression\n",
        "from sklearn.model_selection import RandomizedSearchCV\n",
        "from sklearn.metrics import make_scorer, mean_squared_error\n",
        "from sklearn.pipeline import make_pipeline\n",
        "from sklearn.preprocessing import StandardScaler\n",
        "from sklearn.model_selection import KFold\n",
        "from sklearn.metrics import mean_squared_error\n",
        "from sklearn.model_selection import cross_val_score\n",
        "\n",
        "from scipy.stats import uniform\n",
        "\n",
        "import joblib"
      ],
      "metadata": {
        "id": "7VM-y1ikc6bS"
      },
      "execution_count": 22,
      "outputs": []
    },
    {
      "cell_type": "code",
      "source": [
        "# Load the saved model\n",
        "# model_path = '/content/drive/MyDrive/Data/best_mlp_model_WN_SPLIt.pkl'\n",
        "model_path_wn = '/content/drive/MyDrive/Data/best_mlp_model_WN_SPLIT_NEW_OUT.pkl'\n",
        "model_path = '/content/drive/MyDrive/Data/best_mlp_model_No_WN_SPLIT_NEW_OUT.pkl'\n",
        "\n",
        "\n",
        "best_mlp= joblib.load(model_path)\n",
        "\n",
        "print(\"Model loaded successfully!\")"
      ],
      "metadata": {
        "colab": {
          "base_uri": "https://localhost:8080/"
        },
        "id": "EPyUk2fqTt3G",
        "outputId": "b58de8b3-d9dd-4f22-f71d-c23060c67cf5"
      },
      "execution_count": 24,
      "outputs": [
        {
          "output_type": "stream",
          "name": "stdout",
          "text": [
            "Model loaded successfully!\n"
          ]
        }
      ]
    },
    {
      "cell_type": "code",
      "source": [
        "best_mlp_wn= joblib.load(model_path_wn)"
      ],
      "metadata": {
        "id": "9Rrg6eKJflK5"
      },
      "execution_count": 25,
      "outputs": []
    },
    {
      "cell_type": "code",
      "source": [
        "best_mlp.get_params()"
      ],
      "metadata": {
        "colab": {
          "base_uri": "https://localhost:8080/"
        },
        "id": "_zRcp9O2ita0",
        "outputId": "42caed9a-9606-4d48-90e4-16a00cd3e1e6"
      },
      "execution_count": null,
      "outputs": [
        {
          "output_type": "execute_result",
          "data": {
            "text/plain": [
              "{'activation': 'relu',\n",
              " 'alpha': 0.0001,\n",
              " 'batch_size': 'auto',\n",
              " 'beta_1': 0.9,\n",
              " 'beta_2': 0.999,\n",
              " 'early_stopping': False,\n",
              " 'epsilon': 1e-08,\n",
              " 'hidden_layer_sizes': (200,),\n",
              " 'learning_rate': 'constant',\n",
              " 'learning_rate_init': np.float64(0.010029122914019804),\n",
              " 'max_fun': 15000,\n",
              " 'max_iter': 3000,\n",
              " 'momentum': 0.9,\n",
              " 'n_iter_no_change': 10,\n",
              " 'nesterovs_momentum': True,\n",
              " 'power_t': 0.5,\n",
              " 'random_state': 42,\n",
              " 'shuffle': True,\n",
              " 'solver': 'lbfgs',\n",
              " 'tol': 0.0001,\n",
              " 'validation_fraction': 0.1,\n",
              " 'verbose': False,\n",
              " 'warm_start': False}"
            ]
          },
          "metadata": {},
          "execution_count": 13
        }
      ]
    },
    {
      "cell_type": "code",
      "source": [
        "from sklearn.model_selection import cross_val_score\n",
        "\n",
        "# Evaluate final model with cross-validation (optional)\n",
        "cv_scores = cross_val_score(best_mlp, normalized_input, normalized_out, cv=5, scoring='neg_mean_squared_error')\n",
        "print(f\"CV MSE scores: {-cv_scores}\")\n",
        "print(f\"Mean CV MSE: {-cv_scores.mean()}\")\n"
      ],
      "metadata": {
        "colab": {
          "base_uri": "https://localhost:8080/"
        },
        "id": "WyqWMRjqimMI",
        "outputId": "5c580667-ffc7-4f2e-9b37-e9559a4c27bc"
      },
      "execution_count": 26,
      "outputs": [
        {
          "output_type": "stream",
          "name": "stderr",
          "text": [
            "/usr/local/lib/python3.11/dist-packages/sklearn/neural_network/_multilayer_perceptron.py:1650: DataConversionWarning: A column-vector y was passed when a 1d array was expected. Please change the shape of y to (n_samples, ), for example using ravel().\n",
            "  y = column_or_1d(y, warn=True)\n",
            "/usr/local/lib/python3.11/dist-packages/sklearn/neural_network/_multilayer_perceptron.py:1650: DataConversionWarning: A column-vector y was passed when a 1d array was expected. Please change the shape of y to (n_samples, ), for example using ravel().\n",
            "  y = column_or_1d(y, warn=True)\n",
            "/usr/local/lib/python3.11/dist-packages/sklearn/neural_network/_multilayer_perceptron.py:1650: DataConversionWarning: A column-vector y was passed when a 1d array was expected. Please change the shape of y to (n_samples, ), for example using ravel().\n",
            "  y = column_or_1d(y, warn=True)\n",
            "/usr/local/lib/python3.11/dist-packages/sklearn/neural_network/_multilayer_perceptron.py:1650: DataConversionWarning: A column-vector y was passed when a 1d array was expected. Please change the shape of y to (n_samples, ), for example using ravel().\n",
            "  y = column_or_1d(y, warn=True)\n",
            "/usr/local/lib/python3.11/dist-packages/sklearn/neural_network/_multilayer_perceptron.py:1650: DataConversionWarning: A column-vector y was passed when a 1d array was expected. Please change the shape of y to (n_samples, ), for example using ravel().\n",
            "  y = column_or_1d(y, warn=True)\n"
          ]
        },
        {
          "output_type": "stream",
          "name": "stdout",
          "text": [
            "CV MSE scores: [0.00543208 0.0460082  0.02834855 0.01300539 0.11492171]\n",
            "Mean CV MSE: 0.041543185254219864\n"
          ]
        }
      ]
    },
    {
      "cell_type": "code",
      "source": [
        "from sklearn.metrics import mean_squared_error, r2_score\n",
        "\n",
        "\n",
        "# Get Predictions\n",
        "predictions = best_mlp.predict(normalized_input)\n",
        "\n",
        "# Calculate R² Score for Each Target\n",
        "r2_temp = r2_score(normalized_out, predictions)\n",
        "print(f\"R² Score for Temperature: {r2_temp}\")\n",
        "\n",
        "# Inverse Transform Predictions\n",
        "predictions_original_scale = scaler_output.inverse_transform(predictions.reshape(-1, 1)).ravel()\n",
        "true_values_original_scale = scaler_output.inverse_transform(normalized_out).ravel()\n",
        "diff = true_values_original_scale-predictions_original_scale\n",
        "\n",
        "# Compare Predictions with True Values\n",
        "comparison_df = pd.DataFrame({\n",
        "    'True Temperature': true_values_original_scale,\n",
        "    'Predicted Temperature': predictions_original_scale,\n",
        "    'diff':diff\n",
        "})\n",
        "print()\n",
        "print(comparison_df)\n"
      ],
      "metadata": {
        "id": "0sEAvgjocjWt",
        "colab": {
          "base_uri": "https://localhost:8080/"
        },
        "outputId": "9d87f197-7599-487b-a9a3-f01b8e94b36f"
      },
      "execution_count": 27,
      "outputs": [
        {
          "output_type": "stream",
          "name": "stdout",
          "text": [
            "R² Score for Temperature: 0.9378134414672437\n",
            "\n",
            "    True Temperature  Predicted Temperature      diff\n",
            "0               17.0              15.029487  1.970513\n",
            "1               28.1              25.142443  2.957557\n",
            "2               32.2              31.615096  0.584904\n",
            "3               48.1              44.277957  3.822043\n",
            "4               58.0              50.864231  7.135769\n",
            "5               17.0              18.816322 -1.816322\n",
            "6               28.1              29.069466 -0.969466\n",
            "7               32.2              39.666726 -7.466726\n",
            "8               48.1              51.096129 -2.996129\n",
            "9               58.0              57.073291  0.926709\n",
            "10              17.0              19.109455 -2.109455\n",
            "11              28.1              28.506617 -0.406617\n",
            "12              32.2              38.179144 -5.979144\n",
            "13              48.1              48.830717 -0.730717\n",
            "14              58.0              54.895516  3.104484\n"
          ]
        }
      ]
    }
  ]
}